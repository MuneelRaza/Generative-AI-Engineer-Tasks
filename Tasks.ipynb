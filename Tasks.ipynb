{
  "nbformat": 4,
  "nbformat_minor": 0,
  "metadata": {
    "colab": {
      "provenance": []
    },
    "kernelspec": {
      "name": "python3",
      "display_name": "Python 3"
    },
    "language_info": {
      "name": "python"
    }
  },
  "cells": [
    {
      "cell_type": "code",
      "source": [
        "OPENAI_API_KEY = 'sk-proj-JlaPOtbcOvylNcf7ShipT3BlbkFJrdiXVfB3lpw5hsZNMXh1'"
      ],
      "metadata": {
        "id": "0AX4i6pHjzSP"
      },
      "execution_count": 53,
      "outputs": []
    },
    {
      "cell_type": "code",
      "source": [
        "import getpass\n",
        "import os\n",
        "\n",
        "os.environ[\"OPENAI_API_KEY\"] = getpass.getpass()\n",
        "\n",
        "from langchain_openai import ChatOpenAI\n",
        "\n",
        "model = ChatOpenAI(model=\"gpt-3.5-turbo-1106\")"
      ],
      "metadata": {
        "colab": {
          "base_uri": "https://localhost:8080/"
        },
        "id": "edJfrm6FkpAT",
        "outputId": "fc8c5522-199b-450b-b1b5-e2a38a376623"
      },
      "execution_count": 54,
      "outputs": [
        {
          "name": "stdout",
          "output_type": "stream",
          "text": [
            "··········\n"
          ]
        }
      ]
    },
    {
      "cell_type": "markdown",
      "source": [
        "#Task 1"
      ],
      "metadata": {
        "id": "sT2zdsV3JZzT"
      }
    },
    {
      "cell_type": "code",
      "source": [
        "example = [\n",
        "    {\n",
        "        \"content\": \"\"\"Q1. Can you describe the specific case study or transformation story you want to share?\n",
        "Ans. successful collaboration between Sodexo and CoachHub to accelerate leadership\n",
        "development across the APMEA region.\n",
        "Q2. What challenge or problem was addressed in this case?\n",
        "Ans. The challenge addressed in this case was the need for scalable leadership\n",
        "development programs that could effectively engage and develop employees across diverse\n",
        "geographic regions, particularly in the Asia Pacific, Middle East, and Africa (APMEA).\n",
        "Q3. What were the key results or outcomes achieved in this story?\n",
        "Ans. The key results achieved in this story include the implementation of scalable coaching\n",
        "programs powered by AI and analytics, which led to improved knowledge retention,\n",
        "enhanced leadership skills, and increased employee engagement across the APMEA region.\n",
        "Q4. Are there any data, quotes, or testimonials that illustrate the impact?\n",
        "Ans. 75% of classroom-style training is forgotten if it's not implemented within 6 days after.\n",
        "Q5. Is there a specific call-to-action?\n",
        "Ans. Join thousands of coachees like Sodexo's Head of FMCG Accounts, Jean Baptiste\n",
        "CALEMARD, on a journey of growth and transformation to explore the greater you.\n",
        "Q6. Are there any specific hashtags you’d like to include?\n",
        "Ans.\n",
        "#ExploreTheGreaterYou\n",
        "https://bit.ly/3LMxIHg\n",
        "Q7. Describe your desired tone and style.\n",
        "Ans. professional and make sure to write the achievements in the form of points.\"\"\",\n",
        "        \"post\": \"\"\"\n",
        "        Did you know? 75% of classroom-style training is forgotten if it's not implemented within 6\n",
        "days after.\n",
        "Discover how Sodexo, a world leader in facilities management and food services, joined\n",
        "forces with CoachHub to accelerate their leadership development across APMEA:\n",
        "🚀 Scalable coaching programs powered by AI and analytics with local support\n",
        "🌎 Access to a diverse pool of 3,500 top certified coaches from around the world\n",
        "🌟 Unlimited, structured coaching sessions and flexibility 24/7 for a hybrid, mobile workforce\n",
        "🧠 Boost knowledge retention and engagement with global benchmarking\n",
        "✅ Quick implementation with low administrative burden\n",
        "Join thousands of coachees like Sodexo's Head of FMCG Accounts, Jean Baptiste\n",
        "CALEMARD, on a journey of growth and transformation to #ExploreTheGreaterYou:\n",
        "https://bit.ly/3LMxIHg\n",
        "        \"\"\"\n",
        "    },\n",
        "]"
      ],
      "metadata": {
        "id": "93aSFa8vt-VK"
      },
      "execution_count": 55,
      "outputs": []
    },
    {
      "cell_type": "code",
      "source": [
        "from langchain_core.prompts import PromptTemplate\n",
        "\n",
        "example_prompt = PromptTemplate.from_template(\"Question: {content}\\n{post}\")"
      ],
      "metadata": {
        "id": "RQ15Wf13tRGJ"
      },
      "execution_count": 56,
      "outputs": []
    },
    {
      "cell_type": "code",
      "source": [
        "print(example_prompt.invoke(example[0]).to_string())"
      ],
      "metadata": {
        "colab": {
          "base_uri": "https://localhost:8080/"
        },
        "collapsed": true,
        "id": "ahMiPHzQyMdW",
        "outputId": "c778ba93-4280-47d5-db02-c058dd5d6375"
      },
      "execution_count": 57,
      "outputs": [
        {
          "output_type": "stream",
          "name": "stdout",
          "text": [
            "Question: Q1. Can you describe the specific case study or transformation story you want to share?\n",
            "Ans. successful collaboration between Sodexo and CoachHub to accelerate leadership\n",
            "development across the APMEA region.\n",
            "Q2. What challenge or problem was addressed in this case?\n",
            "Ans. The challenge addressed in this case was the need for scalable leadership\n",
            "development programs that could effectively engage and develop employees across diverse\n",
            "geographic regions, particularly in the Asia Pacific, Middle East, and Africa (APMEA).\n",
            "Q3. What were the key results or outcomes achieved in this story?\n",
            "Ans. The key results achieved in this story include the implementation of scalable coaching\n",
            "programs powered by AI and analytics, which led to improved knowledge retention,\n",
            "enhanced leadership skills, and increased employee engagement across the APMEA region.\n",
            "Q4. Are there any data, quotes, or testimonials that illustrate the impact?\n",
            "Ans. 75% of classroom-style training is forgotten if it's not implemented within 6 days after.\n",
            "Q5. Is there a specific call-to-action?\n",
            "Ans. Join thousands of coachees like Sodexo's Head of FMCG Accounts, Jean Baptiste\n",
            "CALEMARD, on a journey of growth and transformation to explore the greater you.\n",
            "Q6. Are there any specific hashtags you’d like to include?\n",
            "Ans.\n",
            "#ExploreTheGreaterYou\n",
            "https://bit.ly/3LMxIHg\n",
            "Q7. Describe your desired tone and style.\n",
            "Ans. professional and make sure to write the achievements in the form of points.\n",
            "\n",
            "        Did you know? 75% of classroom-style training is forgotten if it's not implemented within 6\n",
            "days after.\n",
            "Discover how Sodexo, a world leader in facilities management and food services, joined\n",
            "forces with CoachHub to accelerate their leadership development across APMEA:\n",
            "🚀 Scalable coaching programs powered by AI and analytics with local support\n",
            "🌎 Access to a diverse pool of 3,500 top certified coaches from around the world\n",
            "🌟 Unlimited, structured coaching sessions and flexibility 24/7 for a hybrid, mobile workforce\n",
            "🧠 Boost knowledge retention and engagement with global benchmarking\n",
            "✅ Quick implementation with low administrative burden\n",
            "Join thousands of coachees like Sodexo's Head of FMCG Accounts, Jean Baptiste\n",
            "CALEMARD, on a journey of growth and transformation to #ExploreTheGreaterYou:\n",
            "https://bit.ly/3LMxIHg\n",
            "        \n"
          ]
        }
      ]
    },
    {
      "cell_type": "code",
      "source": [
        "example_prompt"
      ],
      "metadata": {
        "colab": {
          "base_uri": "https://localhost:8080/"
        },
        "id": "ZZGci-5lvm5l",
        "outputId": "67b6e123-9acc-4b51-f5df-1a18f6acee22"
      },
      "execution_count": 58,
      "outputs": [
        {
          "output_type": "execute_result",
          "data": {
            "text/plain": [
              "PromptTemplate(input_variables=['content', 'post'], template='Question: {content}\\n{post}')"
            ]
          },
          "metadata": {},
          "execution_count": 58
        }
      ]
    },
    {
      "cell_type": "code",
      "source": [
        "content = \"\"\"Q1. Can you describe the specific case study or transformation story you want to share?\n",
        "Ans. successful collaboration between Sodexo and CoachHub to accelerate leadership\n",
        "development across the APMEA region.\n",
        "Q2. What challenge or problem was addressed in this case?\n",
        "Ans. The challenge addressed in this case was the need for scalable leadership\n",
        "development programs that could effectively engage and develop employees across diverse\n",
        "geographic regions, particularly in the Asia Pacific, Middle East, and Africa (APMEA).\n",
        "Q3. What were the key results or outcomes achieved in this story?\n",
        "Ans. The key results achieved in this story include the implementation of scalable coaching\n",
        "programs powered by AI and analytics, which led to improved knowledge retention,\n",
        "enhanced leadership skills, and increased employee engagement across the APMEA region.\n",
        "Q4. Are there any data, quotes, or testimonials that illustrate the impact?\n",
        "Ans. 75% of classroom-style training is forgotten if it's not implemented within 6 days after.\n",
        "Q5. Is there a specific call-to-action?\n",
        "Ans. Join thousands of coachees like Sodexo's Head of FMCG Accounts, Jean Baptiste\n",
        "CALEMARD, on a journey of growth and transformation to explore the greater you.\n",
        "Q6. Are there any specific hashtags you’d like to include?\n",
        "Ans.\n",
        "#ExploreTheGreaterYou\n",
        "https://bit.ly/3LMxIHg\n",
        "Q7. Describe your desired tone and style.\n",
        "Ans. professional and make sure to write the achievements in the form of points.\"\"\""
      ],
      "metadata": {
        "id": "MFJPxrMHwhdE"
      },
      "execution_count": 59,
      "outputs": []
    },
    {
      "cell_type": "code",
      "source": [
        "from langchain_core.prompts import FewShotPromptTemplate\n",
        "\n",
        "prompt_1 = FewShotPromptTemplate(\n",
        "    examples=example,\n",
        "    example_prompt=example_prompt,\n",
        "    suffix=\"Question: {content}\",\n",
        "    input_variables=[\"content\"],\n",
        ")\n",
        "\n",
        "print(\n",
        "    prompt_1.invoke({\"content\": content}).to_string()\n",
        ")"
      ],
      "metadata": {
        "colab": {
          "base_uri": "https://localhost:8080/"
        },
        "collapsed": true,
        "id": "fL7QtUaCpqec",
        "outputId": "12938945-a59e-4eb8-a74d-a21835aede82"
      },
      "execution_count": 112,
      "outputs": [
        {
          "output_type": "stream",
          "name": "stdout",
          "text": [
            "Question: Q1. Can you describe the specific case study or transformation story you want to share?\n",
            "Ans. successful collaboration between Sodexo and CoachHub to accelerate leadership\n",
            "development across the APMEA region.\n",
            "Q2. What challenge or problem was addressed in this case?\n",
            "Ans. The challenge addressed in this case was the need for scalable leadership\n",
            "development programs that could effectively engage and develop employees across diverse\n",
            "geographic regions, particularly in the Asia Pacific, Middle East, and Africa (APMEA).\n",
            "Q3. What were the key results or outcomes achieved in this story?\n",
            "Ans. The key results achieved in this story include the implementation of scalable coaching\n",
            "programs powered by AI and analytics, which led to improved knowledge retention,\n",
            "enhanced leadership skills, and increased employee engagement across the APMEA region.\n",
            "Q4. Are there any data, quotes, or testimonials that illustrate the impact?\n",
            "Ans. 75% of classroom-style training is forgotten if it's not implemented within 6 days after.\n",
            "Q5. Is there a specific call-to-action?\n",
            "Ans. Join thousands of coachees like Sodexo's Head of FMCG Accounts, Jean Baptiste\n",
            "CALEMARD, on a journey of growth and transformation to explore the greater you.\n",
            "Q6. Are there any specific hashtags you’d like to include?\n",
            "Ans.\n",
            "#ExploreTheGreaterYou\n",
            "https://bit.ly/3LMxIHg\n",
            "Q7. Describe your desired tone and style.\n",
            "Ans. professional and make sure to write the achievements in the form of points.\n",
            "\n",
            "        Did you know? 75% of classroom-style training is forgotten if it's not implemented within 6\n",
            "days after.\n",
            "Discover how Sodexo, a world leader in facilities management and food services, joined\n",
            "forces with CoachHub to accelerate their leadership development across APMEA:\n",
            "🚀 Scalable coaching programs powered by AI and analytics with local support\n",
            "🌎 Access to a diverse pool of 3,500 top certified coaches from around the world\n",
            "🌟 Unlimited, structured coaching sessions and flexibility 24/7 for a hybrid, mobile workforce\n",
            "🧠 Boost knowledge retention and engagement with global benchmarking\n",
            "✅ Quick implementation with low administrative burden\n",
            "Join thousands of coachees like Sodexo's Head of FMCG Accounts, Jean Baptiste\n",
            "CALEMARD, on a journey of growth and transformation to #ExploreTheGreaterYou:\n",
            "https://bit.ly/3LMxIHg\n",
            "        \n",
            "\n",
            "Question: Q1. Can you describe the specific case study or transformation story you want to share?\n",
            "Ans. successful collaboration between Sodexo and CoachHub to accelerate leadership\n",
            "development across the APMEA region.\n",
            "Q2. What challenge or problem was addressed in this case?\n",
            "Ans. The challenge addressed in this case was the need for scalable leadership\n",
            "development programs that could effectively engage and develop employees across diverse\n",
            "geographic regions, particularly in the Asia Pacific, Middle East, and Africa (APMEA).\n",
            "Q3. What were the key results or outcomes achieved in this story?\n",
            "Ans. The key results achieved in this story include the implementation of scalable coaching\n",
            "programs powered by AI and analytics, which led to improved knowledge retention,\n",
            "enhanced leadership skills, and increased employee engagement across the APMEA region.\n",
            "Q4. Are there any data, quotes, or testimonials that illustrate the impact?\n",
            "Ans. 75% of classroom-style training is forgotten if it's not implemented within 6 days after.\n",
            "Q5. Is there a specific call-to-action?\n",
            "Ans. Join thousands of coachees like Sodexo's Head of FMCG Accounts, Jean Baptiste\n",
            "CALEMARD, on a journey of growth and transformation to explore the greater you.\n",
            "Q6. Are there any specific hashtags you’d like to include?\n",
            "Ans.\n",
            "#ExploreTheGreaterYou\n",
            "https://bit.ly/3LMxIHg\n",
            "Q7. Describe your desired tone and style.\n",
            "Ans. professional and make sure to write the achievements in the form of points.\n"
          ]
        }
      ]
    },
    {
      "cell_type": "code",
      "source": [
        "from langchain_core.output_parsers import StrOutputParser\n",
        "\n",
        "parser = StrOutputParser()"
      ],
      "metadata": {
        "id": "s8do1HDdz3y9"
      },
      "execution_count": 61,
      "outputs": []
    },
    {
      "cell_type": "code",
      "source": [
        "chain_1 = prompt_1 | model | parser"
      ],
      "metadata": {
        "id": "VnAfACK_w5IK"
      },
      "execution_count": 113,
      "outputs": []
    },
    {
      "cell_type": "code",
      "source": [
        "response_1 = chain_1.invoke({\"content\": content})"
      ],
      "metadata": {
        "id": "iXeQEFpgz9N5"
      },
      "execution_count": 114,
      "outputs": []
    },
    {
      "cell_type": "code",
      "source": [
        "print(response_1)"
      ],
      "metadata": {
        "colab": {
          "base_uri": "https://localhost:8080/"
        },
        "id": "WCEIoZP6J7_A",
        "outputId": "8fd3e7a4-1265-456f-e103-92e07a675155"
      },
      "execution_count": 117,
      "outputs": [
        {
          "output_type": "stream",
          "name": "stdout",
          "text": [
            "Did you know? 75% of classroom-style training is forgotten if it's not implemented within 6 days after.\n",
            "\n",
            "Discover how Sodexo, a world leader in facilities management and food services, joined forces with CoachHub to accelerate their leadership development across APMEA:\n",
            "- Scalable coaching programs powered by AI and analytics with local support\n",
            "- Access to a diverse pool of 3,500 top certified coaches from around the world\n",
            "- Unlimited, structured coaching sessions and flexibility 24/7 for a hybrid, mobile workforce\n",
            "- Boost knowledge retention and engagement with global benchmarking\n",
            "- Quick implementation with low administrative burden\n",
            "\n",
            "Join thousands of coachees like Sodexo's Head of FMCG Accounts, Jean Baptiste CALEMARD, on a journey of growth and transformation to #ExploreTheGreaterYou:\n",
            "https://bit.ly/3LMxIHg\n"
          ]
        }
      ]
    },
    {
      "cell_type": "markdown",
      "source": [
        "#Task 2"
      ],
      "metadata": {
        "id": "c5RuzPjeJdzv"
      }
    },
    {
      "cell_type": "code",
      "source": [
        "sample_data = {\n",
        "  \"Name\": \"Emily Chen\",\n",
        "  \"Field of study\": \"Computer Science\",\n",
        "  \"Year of study\": \"Sophomore (2nd year)\",\n",
        "  \"Subjects\": [\n",
        "    {\"Subject\": \"Programming Fundamentals\", \"Code\": \"CS201\"},\n",
        "    {\"Subject\": \"Data Structures\", \"Code\": \"CS202\"},\n",
        "    {\"Subject\": \"Computer Systems\", \"Code\": \"CS203\"},\n",
        "    {\"Subject\": \"Web Development\", \"Code\": \"CS204\"},\n",
        "    {\"Subject\": \"Calculus\", \"Code\": \"MATH101\"}\n",
        "  ],\n",
        "  \"Academic Performance\": {\n",
        "    \"Programming Fundamentals\": \"B+ (80%)\",\n",
        "    \"Data Structures\": \"C+ (75%)\",\n",
        "    \"Computer Systems\": \"A- (90%)\",\n",
        "    \"Web Development\": \"B (85%)\",\n",
        "    \"Calculus\": \"B- (80%)\"\n",
        "  },\n",
        "  \"Preferred Learning Styles\": {\n",
        "    \"Visual\": 60,\n",
        "    \"Auditory\": 30,\n",
        "    \"Kinesthetic\": 10\n",
        "  },\n",
        "  \"Personal Objectives\": [\n",
        "    \"Improve programming skills\",\n",
        "    \"Prepare for internship applications\",\n",
        "    \"Maintain a GPA of 3.5 or higher\"\n",
        "  ],\n",
        "  \"Challenges\": [\n",
        "    \"Managing time effectively\",\n",
        "    \"Understanding complex data structures\",\n",
        "    \"Overcoming fear of public speaking (for presentations)\"\n",
        "  ],\n",
        "  \"Extracurricular Activities\": [\n",
        "    {\"Activity\": \"University Robotics Club\", \"Frequency\": \"Every Thursday evening\"},\n",
        "    {\"Activity\": \"Volunteer at local coding non-profit\", \"Frequency\": \"Every other Saturday morning\"}\n",
        "  ]\n",
        "}\n"
      ],
      "metadata": {
        "id": "gH87ZhN69Lff"
      },
      "execution_count": 93,
      "outputs": []
    },
    {
      "cell_type": "code",
      "source": [
        "prompt_template = \"\"\"\n",
        "Fetch the following data from {student_data} about the student:\n",
        "1. Name\n",
        "2. Field of study\n",
        "3. Year of study\n",
        "4. Subjects\n",
        "5. Academic Performance\n",
        "6. Preferred Learning Styles\n",
        "7. Personal Objectives\n",
        "8. Challenges\n",
        "9. Extracurricular Activities\n",
        "\n",
        "Create a tailored study plan for student with name 'Name', a 'Year of study' student in 'Field of study', that optimizes their academic performance and addresses their unique needs and goals.\n",
        "Analyze the following student-specific data:\n",
        "\n",
        "1. Subjects: 'Subjects'\n",
        "2. Academic Performance: 'Academic Performance'\n",
        "3. Preferred Learning Styles: 'Preferred Learning Styles'\n",
        "4. Personal Objectives: 'Personal Objectives'\n",
        "5. Challenges: 'Challenges'\n",
        "6. Extracurricular Activities: 'Extracurricular Activities'\n",
        "\n",
        "Synthesize the data to generate a study plan that:\n",
        "\n",
        "1. Prioritizes subjects based on academic performance and personal objectives\n",
        "2. Incorporates preferred learning styles to enhance understanding and retention\n",
        "3. Allocates time for each subject, balancing study sessions with extracurricular activities\n",
        "4. Addresses challenges with strategies for overcoming obstacles and staying motivated\n",
        "5. Sets realistic goals with measurable outcomes and regular assessments\n",
        "6. Provides flexibility for adjustments as needed\n",
        "\n",
        "Ensure the study plan is:\n",
        "\n",
        "- Realistic and achievable\n",
        "- Aligned with the student's strengths and interests\n",
        "- Adaptable to changing circumstances\n",
        "- Regularly reviewed and updated\n",
        "\n",
        "Lastly, format the study plan in a well-organized and easy to read manner.\n",
        "\n",
        "Study Plan:\"\"\""
      ],
      "metadata": {
        "id": "5iRwqqV31VJg"
      },
      "execution_count": 97,
      "outputs": []
    },
    {
      "cell_type": "code",
      "source": [
        "prompt = PromptTemplate(\n",
        "    input_variables=[\"student_data\"],\n",
        "    template=prompt_template,\n",
        ")"
      ],
      "metadata": {
        "id": "SrArf74t96BP"
      },
      "execution_count": 98,
      "outputs": []
    },
    {
      "cell_type": "code",
      "source": [
        "prompt"
      ],
      "metadata": {
        "colab": {
          "base_uri": "https://localhost:8080/"
        },
        "id": "5zaIPT7BDOYo",
        "outputId": "971063bb-2bfe-4a92-8e19-4eddcb0c55ae"
      },
      "execution_count": 99,
      "outputs": [
        {
          "output_type": "execute_result",
          "data": {
            "text/plain": [
              "PromptTemplate(input_variables=['student_data'], template=\"\\nFetch the following data from {student_data} about the student:\\n1. Name\\n2. Field of study\\n3. Year of study\\n4. Subjects\\n5. Academic Performance\\n6. Preferred Learning Styles\\n7. Personal Objectives\\n8. Challenges\\n9. Extracurricular Activities\\n\\nCreate a tailored study plan for student with name 'Name', a 'Year of study' student in 'Field of study', that optimizes their academic performance and addresses their unique needs and goals.\\nAnalyze the following student-specific data:\\n\\n1. Subjects: 'Subjects'\\n2. Academic Performance: 'Academic Performance'\\n3. Preferred Learning Styles: 'Preferred Learning Styles'\\n4. Personal Objectives: 'Personal Objectives'\\n5. Challenges: 'Challenges'\\n6. Extracurricular Activities: 'Extracurricular Activities'\\n\\nSynthesize the data to generate a study plan that:\\n\\n1. Prioritizes subjects based on academic performance and personal objectives\\n2. Incorporates preferred learning styles to enhance understanding and retention\\n3. Allocates time for each subject, balancing study sessions with extracurricular activities\\n4. Addresses challenges with strategies for overcoming obstacles and staying motivated\\n5. Sets realistic goals with measurable outcomes and regular assessments\\n6. Provides flexibility for adjustments as needed\\n\\nEnsure the study plan is:\\n\\n- Realistic and achievable\\n- Aligned with the student's strengths and interests\\n- Adaptable to changing circumstances\\n- Regularly reviewed and updated\\n\\nLastly, format the study plan in a well-organized and easy to read manner.\\n\\nStudy Plan:\")"
            ]
          },
          "metadata": {},
          "execution_count": 99
        }
      ]
    },
    {
      "cell_type": "code",
      "source": [
        "prompt.invoke({\"student_data\": sample_data})"
      ],
      "metadata": {
        "colab": {
          "base_uri": "https://localhost:8080/"
        },
        "id": "SrsVjQGMDDu_",
        "outputId": "cc6df53b-94bd-4a4b-f52b-513a4e51d0be"
      },
      "execution_count": 100,
      "outputs": [
        {
          "output_type": "execute_result",
          "data": {
            "text/plain": [
              "StringPromptValue(text=\"\\nFetch the following data from {'Name': 'Emily Chen', 'Field of study': 'Computer Science', 'Year of study': 'Sophomore (2nd year)', 'Subjects': [{'Subject': 'Programming Fundamentals', 'Code': 'CS201'}, {'Subject': 'Data Structures', 'Code': 'CS202'}, {'Subject': 'Computer Systems', 'Code': 'CS203'}, {'Subject': 'Web Development', 'Code': 'CS204'}, {'Subject': 'Calculus', 'Code': 'MATH101'}], 'Academic Performance': {'Programming Fundamentals': 'B+ (80%)', 'Data Structures': 'C+ (75%)', 'Computer Systems': 'A- (90%)', 'Web Development': 'B (85%)', 'Calculus': 'B- (80%)'}, 'Preferred Learning Styles': {'Visual': 60, 'Auditory': 30, 'Kinesthetic': 10}, 'Personal Objectives': ['Improve programming skills', 'Prepare for internship applications', 'Maintain a GPA of 3.5 or higher'], 'Challenges': ['Managing time effectively', 'Understanding complex data structures', 'Overcoming fear of public speaking (for presentations)'], 'Extracurricular Activities': [{'Activity': 'University Robotics Club', 'Frequency': 'Every Thursday evening'}, {'Activity': 'Volunteer at local coding non-profit', 'Frequency': 'Every other Saturday morning'}]} about the student:\\n1. Name\\n2. Field of study\\n3. Year of study\\n4. Subjects\\n5. Academic Performance\\n6. Preferred Learning Styles\\n7. Personal Objectives\\n8. Challenges\\n9. Extracurricular Activities\\n\\nCreate a tailored study plan for student with name 'Name', a 'Year of study' student in 'Field of study', that optimizes their academic performance and addresses their unique needs and goals.\\nAnalyze the following student-specific data:\\n\\n1. Subjects: 'Subjects'\\n2. Academic Performance: 'Academic Performance'\\n3. Preferred Learning Styles: 'Preferred Learning Styles'\\n4. Personal Objectives: 'Personal Objectives'\\n5. Challenges: 'Challenges'\\n6. Extracurricular Activities: 'Extracurricular Activities'\\n\\nSynthesize the data to generate a study plan that:\\n\\n1. Prioritizes subjects based on academic performance and personal objectives\\n2. Incorporates preferred learning styles to enhance understanding and retention\\n3. Allocates time for each subject, balancing study sessions with extracurricular activities\\n4. Addresses challenges with strategies for overcoming obstacles and staying motivated\\n5. Sets realistic goals with measurable outcomes and regular assessments\\n6. Provides flexibility for adjustments as needed\\n\\nEnsure the study plan is:\\n\\n- Realistic and achievable\\n- Aligned with the student's strengths and interests\\n- Adaptable to changing circumstances\\n- Regularly reviewed and updated\\n\\nLastly, format the study plan in a well-organized and easy to read manner.\\n\\nStudy Plan:\")"
            ]
          },
          "metadata": {},
          "execution_count": 100
        }
      ]
    },
    {
      "cell_type": "code",
      "source": [
        "chain_2 = prompt | model | parser"
      ],
      "metadata": {
        "id": "JRpC6OxyAXLU"
      },
      "execution_count": 108,
      "outputs": []
    },
    {
      "cell_type": "code",
      "source": [
        "response = chain_2.invoke({\"student_data\": sample_data})"
      ],
      "metadata": {
        "id": "yjyzGev1AdDA"
      },
      "execution_count": 109,
      "outputs": []
    },
    {
      "cell_type": "code",
      "source": [
        "print(response)"
      ],
      "metadata": {
        "colab": {
          "base_uri": "https://localhost:8080/"
        },
        "id": "5DlIiS7xIRgE",
        "outputId": "e31c5c99-5d68-4b63-adb6-e80eb5f1e462"
      },
      "execution_count": 110,
      "outputs": [
        {
          "output_type": "stream",
          "name": "stdout",
          "text": [
            "Name: Emily Chen\n",
            "Field of study: Computer Science\n",
            "Year of study: Sophomore (2nd year)\n",
            "\n",
            "Subjects:\n",
            "1. Computer Systems (CS203)\n",
            "2. Web Development (CS204)\n",
            "3. Programming Fundamentals (CS201)\n",
            "4. Calculus (MATH101)\n",
            "5. Data Structures (CS202)\n",
            "\n",
            "Academic Performance:\n",
            "- Computer Systems: A- (90%)\n",
            "- Web Development: B (85%)\n",
            "- Programming Fundamentals: B+ (80%)\n",
            "- Calculus: B- (80%)\n",
            "- Data Structures: C+ (75%)\n",
            "\n",
            "Preferred Learning Styles:\n",
            "- Visual: 60%\n",
            "- Auditory: 30%\n",
            "- Kinesthetic: 10%\n",
            "\n",
            "Personal Objectives:\n",
            "- Improve programming skills\n",
            "- Prepare for internship applications\n",
            "- Maintain a GPA of 3.5 or higher\n",
            "\n",
            "Challenges:\n",
            "- Managing time effectively\n",
            "- Understanding complex data structures\n",
            "- Overcoming fear of public speaking (for presentations)\n",
            "\n",
            "Extracurricular Activities:\n",
            "1. University Robotics Club - Every Thursday evening\n",
            "2. Volunteer at local coding non-profit - Every other Saturday morning\n",
            "\n",
            "Study Plan:\n",
            "1. Prioritize subjects based on academic performance and personal objectives:\n",
            "   - Focus on Computer Systems and Web Development due to high academic performance and relevance to personal objectives.\n",
            "   - Allocate more time to Programming Fundamentals to improve skills and achieve higher grades.\n",
            "   - Dedicate additional effort to understanding Data Structures to overcome academic challenges.\n",
            "\n",
            "2. Incorporate preferred learning styles:\n",
            "   - Use visual aids and diagrams for Computer Systems and Web Development.\n",
            "   - Utilize auditory methods for understanding complex concepts in Data Structures.\n",
            "   - Incorporate kinesthetic learning through coding practice for Programming Fundamentals.\n",
            "\n",
            "3. Allocate time for each subject and balance with extracurricular activities:\n",
            "   - Create a study schedule with dedicated time slots for each subject, considering the preferred learning styles.\n",
            "   - Integrate study sessions around extracurricular activities to maintain a balanced lifestyle.\n",
            "\n",
            "4. Address challenges with strategies for overcoming obstacles and staying motivated:\n",
            "   - Time management: Develop a daily schedule and utilize time-blocking techniques.\n",
            "   - Understanding complex data structures: Seek additional resources such as tutoring or group study sessions.\n",
            "   - Overcoming fear of public speaking: Practice presentations with peers and seek feedback for improvement.\n",
            "\n",
            "5. Set realistic goals with measurable outcomes and regular assessments:\n",
            "   - Set weekly targets for each subject and track progress through regular assessments.\n",
            "   - Adjust goals based on academic performance and personal growth.\n",
            "\n",
            "6. Provide flexibility for adjustments as needed:\n",
            "   - Review and adjust the study plan based on changing circumstances and feedback.\n",
            "   - Stay adaptable and open to trying new study techniques and resources.\n",
            "\n",
            "This study plan is designed to optimize academic performance, address personal objectives, and overcome challenges while maintaining a balanced and adaptable approach. It is tailored to Emily's strengths and interests, ensuring a realistic and achievable path for success. Regular review and updates will ensure continuous improvement and adaptability to changing circumstances.\n"
          ]
        }
      ]
    },
    {
      "cell_type": "code",
      "source": [],
      "metadata": {
        "id": "xWzRW6RtIqCN"
      },
      "execution_count": null,
      "outputs": []
    }
  ]
}